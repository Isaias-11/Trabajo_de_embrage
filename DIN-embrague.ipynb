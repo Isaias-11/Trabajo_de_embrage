{
 "cells": [
  {
   "cell_type": "code",
   "execution_count": 22,
   "id": "a6ced719-9b20-4658-bc54-a927c0b42c2c",
   "metadata": {},
   "outputs": [],
   "source": [
    "import numpy as np #importar libreria matematica\n",
    "import plotly.express as px #herramienta de plot\n",
    "import plotly.graph_objects as go"
   ]
  },
  {
   "cell_type": "markdown",
   "id": "d5d474b4-538b-427d-b518-56e877e30417",
   "metadata": {
    "tags": []
   },
   "source": [
    "# Ejercicio Embrague\n",
    "\n",
    "![title](E-embP_13-71.png)\n",
    "\n",
    ">Suponga que el sistema trabaja de manera horizontal. La fricción de las zapatas A contra el marco B hace funcional el embrague centrífugo y se transmite el torque de A hacia B. La fuerza centrífuga mantiene a las zapatas contra el marco B donde su coeficiente de fricción estático es de $\\mu=0.8$. Cada zapata pesa 9.8[N] y el peso del resto de partes es despreciable. \n",
    "- Calcular la tensión inicial de los resortes (C) para que el contacto de las zapatas se haga cuando $\\dot{\\theta}\\geq200[rpm]$\n",
    "- Determinar el torque en el intervalo $100\\leq\\dot{\\theta}\\leq1500[rpm]$"
   ]
  },
  {
   "cell_type": "markdown",
   "id": "ff2139b3-cb1d-471a-b915-848a66c0fda5",
   "metadata": {},
   "source": [
    "Diagrama de cuerpo libre antes \n",
    "![title](DCL1.png)"
   ]
  },
  {
   "cell_type": "markdown",
   "id": "6dfbf5be-8dca-47b7-a8d9-bc9c50d378ad",
   "metadata": {},
   "source": [
    " -Literal a):\n",
    " >En el eje transversal $$\\Sigma F e_{\\theta}=m*a_{\\theta} = 0$$\n",
    " Entonces: $$ U_s*N=m*a_{\\theta}$$\n",
    " Como N tiende a cero (no existe contacto al inicio) tenemos que:\n",
    " $$ F r=0$$\n",
    "<br>Y en el eje radial se tiene $$\\Sigma F e_{r}=m*a_r=m*(\\ddot{r}-r*\\dot{\\theta}^2)$$\n",
    "Como no existen $$\\dot{r},   \\ddot{r}$$\n",
    "Tenemos lo siguiente:\n",
    "$$-(N+F_e)=-m*r*\\dot{\\theta}^2$$\n",
    "$$F_e=m*r*{\\theta}^2$$\n",
    "$$F_e=(1\\hspace{2mm}kg)*(0.3\\hspace{2mm}m)*(\\dot{\\theta}^2\\hspace{2mm}rad/seg)^2$$\n",
    "Entonces tenemos que la tensión en funsión de la velocidad angular es:\n",
    "$$F_e=0,3\\dot{\\theta}^2\\hspace{2mm}[N]$$\n",
    "Tensión antes del contacto es:\n",
    "$$F_e=131,59\\hspace{2mm}[N]$$ "
   ]
  },
  {
   "cell_type": "markdown",
   "id": "344a360f-485a-49ac-bd89-dc4dfdd11ccf",
   "metadata": {
    "tags": []
   },
   "source": [
    "#Datos del ejercicio\n",
    "m=1 #[kg]\n",
    "R1=0.3 #[m]\n",
    "tworad=0.4 #[m]\n",
    "#Ecuaciones y aálisis\n",
    "vangular=np.arange(0,201,1)\n",
    "T=m*R1*((vangular*((np.pi)/30))**2)\n",
    "#plot\n",
    "fig=px.line(x=vangular,y=T,labels={'x':'Velocidad Angular [rad/s]','y':'Tension[N]'},title=\"Tension VS velocidad angular\")\n",
    "fig.show()\n"
   ]
  },
  {
   "cell_type": "markdown",
   "id": "8d4fb0c6-fce5-4c65-ad9c-79718c7b6c62",
   "metadata": {},
   "source": [
    "Diagrama de cuerpo libre depués:\n",
    "![title](Dc.png)\n",
    "    "
   ]
  },
  {
   "cell_type": "markdown",
   "id": "4a71f376-ca0f-4421-9e76-8fea4d6f9267",
   "metadata": {},
   "source": [
    "-Literal B):\n",
    ">En el eje radial se tiene $$\\Sigma F e_{r}=m*a_r=m*(\\ddot{r}-\\dot{r}*\\dot{\\theta}^2)$$\n",
    "Como no existen $$\\dot{r},   \\ddot{r}$$\n",
    "Tenemos lo siguiente:\n",
    "$$-(N+F_e)=-m*r*\\dot{\\theta}^2$$\n",
    "$$N+F_e=m*r*\\dot{\\theta}^2$$\n",
    "$$N=mr\\dot{\\theta}^2-F_e\\hspace{2mm}[N]$$\n"
   ]
  },
  {
   "cell_type": "markdown",
   "id": "f63fa391-11fe-403d-bf39-116561337c68",
   "metadata": {},
   "source": [
    "Ahora realizamos sumatoria de torques:\n",
    "![title](DCL2.png)"
   ]
  },
  {
   "cell_type": "markdown",
   "id": "e6dd782d-a7d0-47c6-9e33-aca5f202dac9",
   "metadata": {},
   "source": [
    ">En este caso solo la fuerza de fricción produce torque entonces:\n",
    "$$\\Sigma \\tau_{r}=2*Fr*R_2$$\n",
    "Remplazando datos tenemos:\n",
    "$$\\tau=2*Us*N*R_2$$\n",
    "$$\\tau=2*Us*((m*R_1\\dot{\\theta}^2)-Fe)R_2$$\n",
    "Remplazando valores tenemos la ecuación del torque en funsión de la velocidad angular:\n",
    "$$\\tau=0.192\\dot{\\theta}^2-0.192(20\\pi/3)^2\\hspace{2mm}[Nm]$$\n"
   ]
  },
  {
   "cell_type": "markdown",
   "id": "f4ca17cf-3deb-4677-adba-93a0330654ff",
   "metadata": {},
   "source": [
    "#Datos del ejercicio\n",
    "m=1 #[kg]\n",
    "R1=0.3 #[m]\n",
    "us=0.8\n",
    "R2=0.4 #[m]\n",
    "Fe=m*R1*((200*((np.pi)/30))**2)\n",
    "#Ecuaciones y aálisis\n",
    "vangular=np.arange(100,1501,10)\n",
    "T=2*us*(m*R1*((vangular*((np.pi)/30))**2)-Fe)*R2\n",
    "#plot\n",
    "fig=px.line(x=vangular,y=T,labels={'x':'Velocidad Angular [rad/s]','y':'Torque[Nm]'},title=\"Torque VS velocidad angular\")\n",
    "fig.show()"
   ]
  },
  {
   "cell_type": "code",
   "execution_count": null,
   "id": "7ec2bfe8-ba70-4d61-a85b-1f0128e86d90",
   "metadata": {},
   "outputs": [],
   "source": []
  }
 ],
 "metadata": {
  "kernelspec": {
   "display_name": "Python 3",
   "language": "python",
   "name": "python3"
  },
  "language_info": {
   "codemirror_mode": {
    "name": "ipython",
    "version": 3
   },
   "file_extension": ".py",
   "mimetype": "text/x-python",
   "name": "python",
   "nbconvert_exporter": "python",
   "pygments_lexer": "ipython3",
   "version": "3.8.8"
  }
 },
 "nbformat": 4,
 "nbformat_minor": 5
}
